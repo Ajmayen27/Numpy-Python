{
 "cells": [
  {
   "cell_type": "code",
   "execution_count": 2,
   "id": "fa5c4569-f9bb-43ae-955f-4c42cd715718",
   "metadata": {},
   "outputs": [],
   "source": [
    "import numpy as np"
   ]
  },
  {
   "cell_type": "code",
   "execution_count": 4,
   "id": "8c46862e-4ac1-4081-bf29-df6632bc05a6",
   "metadata": {},
   "outputs": [
    {
     "data": {
      "text/plain": [
       "0.3012982107199057"
      ]
     },
     "execution_count": 4,
     "metadata": {},
     "output_type": "execute_result"
    }
   ],
   "source": [
    "np.random.random()"
   ]
  },
  {
   "cell_type": "code",
   "execution_count": 18,
   "id": "81fb4866-b327-41d3-819f-3bc43092450f",
   "metadata": {},
   "outputs": [
    {
     "data": {
      "text/plain": [
       "0.417022004702574"
      ]
     },
     "execution_count": 18,
     "metadata": {},
     "output_type": "execute_result"
    }
   ],
   "source": [
    "np.random.seed(1) #gives the same random value repetedly\n",
    "np.random.random()"
   ]
  },
  {
   "cell_type": "code",
   "execution_count": 44,
   "id": "d36f6e8b-ff65-4ddc-95c6-29e0e406acd2",
   "metadata": {},
   "outputs": [
    {
     "data": {
      "text/plain": [
       "68.83673053927919"
      ]
     },
     "execution_count": 44,
     "metadata": {},
     "output_type": "execute_result"
    }
   ],
   "source": [
    "np.random.uniform(1,100) #gives random values within a range"
   ]
  },
  {
   "cell_type": "code",
   "execution_count": 46,
   "id": "55ba5a5a-37ce-4a47-8824-f80c29977bff",
   "metadata": {},
   "outputs": [
    {
     "data": {
      "text/plain": [
       "array([21.24077272, 87.9336262 ,  3.71137173, 67.37628351, 42.31317543,\n",
       "       56.31029302, 14.89830692, 20.61204742, 80.2737123 , 96.857896  ])"
      ]
     },
     "execution_count": 46,
     "metadata": {},
     "output_type": "execute_result"
    }
   ],
   "source": [
    "np.random.uniform(1,100,10)"
   ]
  },
  {
   "cell_type": "code",
   "execution_count": 52,
   "id": "c3b58ee5-e25a-4dfc-b644-a2ec5cbc9bca",
   "metadata": {},
   "outputs": [
    {
     "data": {
      "text/plain": [
       "array([[28.76395521, 79.13865352, 11.21937465, 45.34145909, 90.95095481],\n",
       "       [30.06780069, 29.48975852, 13.87282864,  2.91732883, 68.20471776]])"
      ]
     },
     "execution_count": 52,
     "metadata": {},
     "output_type": "execute_result"
    }
   ],
   "source": [
    "np.random.uniform(1,100,10).reshape(2,5)"
   ]
  },
  {
   "cell_type": "code",
   "execution_count": 59,
   "id": "65f59dc4-daf8-4400-9dc0-49cc4080550a",
   "metadata": {},
   "outputs": [
    {
     "data": {
      "text/plain": [
       "3"
      ]
     },
     "execution_count": 59,
     "metadata": {},
     "output_type": "execute_result"
    }
   ],
   "source": [
    "np.random.randint(1,10)"
   ]
  },
  {
   "cell_type": "code",
   "execution_count": 76,
   "id": "7949dc0e-a5d3-4466-a941-02833186cb09",
   "metadata": {},
   "outputs": [
    {
     "data": {
      "text/plain": [
       "array([[ 1, 19, 11,  9, 14],\n",
       "       [ 4,  1,  9, 14, 19],\n",
       "       [16, 10,  1, 13, 18]])"
      ]
     },
     "execution_count": 76,
     "metadata": {},
     "output_type": "execute_result"
    }
   ],
   "source": [
    "np.random.randint(1,20,15).reshape(3,5)"
   ]
  },
  {
   "cell_type": "code",
   "execution_count": null,
   "id": "4135f5cf-84ce-4a82-bc03-bef1d84eda60",
   "metadata": {},
   "outputs": [],
   "source": []
  },
  {
   "cell_type": "code",
   "execution_count": 90,
   "id": "f8f08d19-704b-4b79-9d50-18d864f2b16f",
   "metadata": {},
   "outputs": [],
   "source": [
    "a = np.random.randint(1,10,6)"
   ]
  },
  {
   "cell_type": "code",
   "execution_count": 92,
   "id": "e08e47b0-9e4b-46b0-997f-2c1297428489",
   "metadata": {},
   "outputs": [
    {
     "data": {
      "text/plain": [
       "array([4, 4, 9, 4, 6, 7])"
      ]
     },
     "execution_count": 92,
     "metadata": {},
     "output_type": "execute_result"
    }
   ],
   "source": [
    "a"
   ]
  },
  {
   "cell_type": "code",
   "execution_count": 94,
   "id": "be9de7d4-4947-4fdc-8ac6-fd7d48442d19",
   "metadata": {},
   "outputs": [
    {
     "data": {
      "text/plain": [
       "9"
      ]
     },
     "execution_count": 94,
     "metadata": {},
     "output_type": "execute_result"
    }
   ],
   "source": [
    "np.max(a)"
   ]
  },
  {
   "cell_type": "code",
   "execution_count": 96,
   "id": "6619d50d-375e-453c-94f0-a46e8a282884",
   "metadata": {},
   "outputs": [
    {
     "data": {
      "text/plain": [
       "4"
      ]
     },
     "execution_count": 96,
     "metadata": {},
     "output_type": "execute_result"
    }
   ],
   "source": [
    "np.min(a)"
   ]
  },
  {
   "cell_type": "code",
   "execution_count": 112,
   "id": "a1204197-f968-4784-9348-5c16115dcb51",
   "metadata": {},
   "outputs": [
    {
     "data": {
      "text/plain": [
       "0"
      ]
     },
     "execution_count": 112,
     "metadata": {},
     "output_type": "execute_result"
    }
   ],
   "source": [
    "np.argmax(a) #providing the index of the elements"
   ]
  },
  {
   "cell_type": "code",
   "execution_count": 114,
   "id": "9e9e92ca-79bb-4c01-a651-be7ea6d20e05",
   "metadata": {},
   "outputs": [
    {
     "data": {
      "text/plain": [
       "4"
      ]
     },
     "execution_count": 114,
     "metadata": {},
     "output_type": "execute_result"
    }
   ],
   "source": [
    "np.argmin(a)"
   ]
  },
  {
   "cell_type": "code",
   "execution_count": 116,
   "id": "b90df62e-8bdd-4837-a3c1-5e7c3b730dbe",
   "metadata": {},
   "outputs": [],
   "source": [
    "a = np.random.randint(1,10,5)"
   ]
  },
  {
   "cell_type": "code",
   "execution_count": 118,
   "id": "eb3cba8e-f37e-4b6e-acdc-491b0271aa5a",
   "metadata": {},
   "outputs": [
    {
     "data": {
      "text/plain": [
       "4.4"
      ]
     },
     "execution_count": 118,
     "metadata": {},
     "output_type": "execute_result"
    }
   ],
   "source": [
    "np.average(a)"
   ]
  },
  {
   "cell_type": "code",
   "execution_count": 122,
   "id": "fa5c906a-96ad-404e-8dfa-4bfde0d55801",
   "metadata": {},
   "outputs": [
    {
     "data": {
      "text/plain": [
       "9"
      ]
     },
     "execution_count": 122,
     "metadata": {},
     "output_type": "execute_result"
    }
   ],
   "source": [
    " a[np.argmax(a)]"
   ]
  },
  {
   "cell_type": "code",
   "execution_count": 124,
   "id": "f72b8925-9d9e-49a4-abe1-840c4fbfc9cb",
   "metadata": {},
   "outputs": [
    {
     "data": {
      "text/plain": [
       "2"
      ]
     },
     "execution_count": 124,
     "metadata": {},
     "output_type": "execute_result"
    }
   ],
   "source": [
    "a[np.argmin(a)]"
   ]
  },
  {
   "cell_type": "code",
   "execution_count": 126,
   "id": "687ec6ba-8b72-4161-a277-67dc88ffc24b",
   "metadata": {},
   "outputs": [],
   "source": [
    "a = np.random.randint(1,10,6)"
   ]
  },
  {
   "cell_type": "code",
   "execution_count": 128,
   "id": "7cf7cb8e-13f3-4919-b627-f3805d5ed8f6",
   "metadata": {},
   "outputs": [
    {
     "data": {
      "text/plain": [
       "array([1, 5, 2, 8, 4, 2])"
      ]
     },
     "execution_count": 128,
     "metadata": {},
     "output_type": "execute_result"
    }
   ],
   "source": [
    "a"
   ]
  },
  {
   "cell_type": "code",
   "execution_count": 146,
   "id": "373704c7-d778-4da4-9264-76c30314508e",
   "metadata": {},
   "outputs": [],
   "source": [
    "a[a%2==1] = -1 #If we want to implement conditions in an array and replace one element with another"
   ]
  },
  {
   "cell_type": "code",
   "execution_count": 148,
   "id": "7f9b0f6a-88b3-431e-886f-26a094ec0638",
   "metadata": {},
   "outputs": [
    {
     "data": {
      "text/plain": [
       "array([-1, -1,  2,  8,  4,  2])"
      ]
     },
     "execution_count": 148,
     "metadata": {},
     "output_type": "execute_result"
    }
   ],
   "source": [
    "a"
   ]
  },
  {
   "cell_type": "code",
   "execution_count": 152,
   "id": "0a4a723c-654d-4f71-ac0b-1f64749e3ba8",
   "metadata": {},
   "outputs": [],
   "source": [
    "a[(a%2==0) & (a > 2)] = -2"
   ]
  },
  {
   "cell_type": "code",
   "execution_count": 186,
   "id": "1327047d-674f-4680-bc09-55d1d7347861",
   "metadata": {},
   "outputs": [],
   "source": [
    "b = np.random.randint(1,10,5)"
   ]
  },
  {
   "cell_type": "code",
   "execution_count": 188,
   "id": "93effca0-cb32-4e73-b7bf-437ee4f8234b",
   "metadata": {},
   "outputs": [
    {
     "data": {
      "text/plain": [
       "array([9, 1, 7, 8, 6])"
      ]
     },
     "execution_count": 188,
     "metadata": {},
     "output_type": "execute_result"
    }
   ],
   "source": [
    "b"
   ]
  },
  {
   "cell_type": "code",
   "execution_count": 192,
   "id": "15634ce1-a47c-4286-81e1-ac5fee29f8c2",
   "metadata": {},
   "outputs": [
    {
     "data": {
      "text/plain": [
       "array([-2, -2, -2,  8,  6])"
      ]
     },
     "execution_count": 192,
     "metadata": {},
     "output_type": "execute_result"
    }
   ],
   "source": [
    "np.where(b%2==1,-2,b) #(condition,true,false)"
   ]
  },
  {
   "cell_type": "code",
   "execution_count": 195,
   "id": "36d84f1b-0816-4e5e-b2ef-54272a56f0b9",
   "metadata": {},
   "outputs": [],
   "source": [
    "c = np.arange(15).reshape(5,3)"
   ]
  },
  {
   "cell_type": "code",
   "execution_count": 198,
   "id": "0c3b8fd7-f4ea-4d9c-8710-8e6cb9025fe0",
   "metadata": {},
   "outputs": [
    {
     "data": {
      "text/plain": [
       "array([[ 0,  1,  2],\n",
       "       [ 3,  4,  5],\n",
       "       [ 6,  7,  8],\n",
       "       [ 9, 10, 11],\n",
       "       [12, 13, 14]])"
      ]
     },
     "execution_count": 198,
     "metadata": {},
     "output_type": "execute_result"
    }
   ],
   "source": [
    "c"
   ]
  },
  {
   "cell_type": "code",
   "execution_count": 200,
   "id": "bb4a5e29-7eb1-4910-a5d1-4eb02eab11d3",
   "metadata": {},
   "outputs": [
    {
     "data": {
      "text/plain": [
       "array([[-1,  1, -1],\n",
       "       [ 3, -1,  5],\n",
       "       [-1,  7, -1],\n",
       "       [ 9, -1, 11],\n",
       "       [-1, 13, -1]])"
      ]
     },
     "execution_count": 200,
     "metadata": {},
     "output_type": "execute_result"
    }
   ],
   "source": [
    "np.where(c%2==0,-1,c)"
   ]
  },
  {
   "cell_type": "code",
   "execution_count": 208,
   "id": "e3cd0f2d-9f65-484a-b8be-baaeead4a8e3",
   "metadata": {},
   "outputs": [],
   "source": [
    "d = np.random.randint(1,50,10)"
   ]
  },
  {
   "cell_type": "code",
   "execution_count": 210,
   "id": "f161ac3b-ea5b-4d11-a638-0670b5acdbfd",
   "metadata": {},
   "outputs": [
    {
     "data": {
      "text/plain": [
       "array([27, 13,  8, 24, 40, 44, 13, 39, 28, 49])"
      ]
     },
     "execution_count": 210,
     "metadata": {},
     "output_type": "execute_result"
    }
   ],
   "source": [
    "d"
   ]
  },
  {
   "cell_type": "code",
   "execution_count": 212,
   "id": "836c685d-f5b8-4b90-8e24-c3dc036f75f4",
   "metadata": {},
   "outputs": [
    {
     "data": {
      "text/plain": [
       "array([ 8, 13, 13, 24, 27, 28, 39, 40, 44, 49])"
      ]
     },
     "execution_count": 212,
     "metadata": {},
     "output_type": "execute_result"
    }
   ],
   "source": [
    "np.sort(d)"
   ]
  },
  {
   "cell_type": "code",
   "execution_count": 224,
   "id": "461815ad-df21-47fe-a109-e2eaf9a4422d",
   "metadata": {},
   "outputs": [
    {
     "ename": "SyntaxError",
     "evalue": "unterminated string literal (detected at line 1) (538338124.py, line 1)",
     "output_type": "error",
     "traceback": [
      "\u001b[1;36m  Cell \u001b[1;32mIn[224], line 1\u001b[1;36m\u001b[0m\n\u001b[1;33m    ' ' ' which means the following sorted number array the single number will be considered as a percent.So the\u001b[0m\n\u001b[1;37m        ^\u001b[0m\n\u001b[1;31mSyntaxError\u001b[0m\u001b[1;31m:\u001b[0m unterminated string literal (detected at line 1)\n"
     ]
    }
   ],
   "source": [
    " #which means the following sorted number arrays single number will be considered as a percent.So the \n",
    "#min number to max number will be considered as                        \n",
    "np.percentile(d,99) "
   ]
  },
  {
   "cell_type": "code",
   "execution_count": null,
   "id": "cf85e8f2-85e9-4ece-a7cb-af126c688a6e",
   "metadata": {},
   "outputs": [],
   "source": []
  }
 ],
 "metadata": {
  "kernelspec": {
   "display_name": "Python [conda env:base] *",
   "language": "python",
   "name": "conda-base-py"
  },
  "language_info": {
   "codemirror_mode": {
    "name": "ipython",
    "version": 3
   },
   "file_extension": ".py",
   "mimetype": "text/x-python",
   "name": "python",
   "nbconvert_exporter": "python",
   "pygments_lexer": "ipython3",
   "version": "3.12.7"
  }
 },
 "nbformat": 4,
 "nbformat_minor": 5
}
