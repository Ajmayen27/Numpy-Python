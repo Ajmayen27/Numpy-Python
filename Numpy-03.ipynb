{
 "cells": [
  {
   "cell_type": "code",
   "execution_count": 2,
   "id": "a74776ea-5be7-4014-8bdb-ab5f485bda35",
   "metadata": {},
   "outputs": [],
   "source": [
    "import numpy as np"
   ]
  },
  {
   "cell_type": "code",
   "execution_count": 4,
   "id": "6d4333f9-c7e8-4372-907f-f0ac7194f45f",
   "metadata": {},
   "outputs": [],
   "source": [
    "arr1 = np.arange(6,12).reshape(3,2)"
   ]
  },
  {
   "cell_type": "code",
   "execution_count": 6,
   "id": "5e94a88f-a339-4503-80f6-232d95fb7a7e",
   "metadata": {},
   "outputs": [
    {
     "data": {
      "text/plain": [
       "array([[ 6,  7],\n",
       "       [ 8,  9],\n",
       "       [10, 11]])"
      ]
     },
     "execution_count": 6,
     "metadata": {},
     "output_type": "execute_result"
    }
   ],
   "source": [
    "arr1"
   ]
  },
  {
   "cell_type": "code",
   "execution_count": 10,
   "id": "fa1d9b89-a0bb-4724-8794-7f6f4d624b9f",
   "metadata": {},
   "outputs": [
    {
     "data": {
      "text/plain": [
       "2"
      ]
     },
     "execution_count": 10,
     "metadata": {},
     "output_type": "execute_result"
    }
   ],
   "source": [
    "arr1.ndim"
   ]
  },
  {
   "cell_type": "code",
   "execution_count": 14,
   "id": "e20a3e9b-b4d0-478b-946b-48def74aabb8",
   "metadata": {},
   "outputs": [
    {
     "data": {
      "text/plain": [
       "array([ 6,  7,  8,  9, 10, 11])"
      ]
     },
     "execution_count": 14,
     "metadata": {},
     "output_type": "execute_result"
    }
   ],
   "source": [
    "arr1.ravel()"
   ]
  },
  {
   "cell_type": "code",
   "execution_count": 16,
   "id": "bb976261-6111-4529-92dc-0bf99e7fd0fd",
   "metadata": {},
   "outputs": [
    {
     "data": {
      "text/plain": [
       "array([[ 6,  7],\n",
       "       [ 8,  9],\n",
       "       [10, 11]])"
      ]
     },
     "execution_count": 16,
     "metadata": {},
     "output_type": "execute_result"
    }
   ],
   "source": [
    "arr1"
   ]
  },
  {
   "cell_type": "code",
   "execution_count": 18,
   "id": "a6cd789d-37d2-4cfb-a375-8a47af810fbc",
   "metadata": {},
   "outputs": [
    {
     "data": {
      "text/plain": [
       "array([[ 6,  8, 10],\n",
       "       [ 7,  9, 11]])"
      ]
     },
     "execution_count": 18,
     "metadata": {},
     "output_type": "execute_result"
    }
   ],
   "source": [
    "arr1.transpose()"
   ]
  },
  {
   "cell_type": "code",
   "execution_count": 20,
   "id": "dad45400-ac09-4986-8edc-d20e251a1319",
   "metadata": {},
   "outputs": [],
   "source": [
    "arr2 = np.arange(6,12).reshape(2,3)"
   ]
  },
  {
   "cell_type": "code",
   "execution_count": 22,
   "id": "067ac809-c7f7-46a8-8610-23c050d41a13",
   "metadata": {},
   "outputs": [],
   "source": [
    "arr3 = np.arange(12,18).reshape(2,3)"
   ]
  },
  {
   "cell_type": "code",
   "execution_count": 24,
   "id": "1d1b3795-07ba-4942-a381-65e20c825a13",
   "metadata": {},
   "outputs": [
    {
     "data": {
      "text/plain": [
       "array([[ 6,  7,  8],\n",
       "       [ 9, 10, 11]])"
      ]
     },
     "execution_count": 24,
     "metadata": {},
     "output_type": "execute_result"
    }
   ],
   "source": [
    "arr2"
   ]
  },
  {
   "cell_type": "code",
   "execution_count": 26,
   "id": "790e5c30-2068-4e5c-899f-74e8a5657b90",
   "metadata": {},
   "outputs": [
    {
     "data": {
      "text/plain": [
       "array([[12, 13, 14],\n",
       "       [15, 16, 17]])"
      ]
     },
     "execution_count": 26,
     "metadata": {},
     "output_type": "execute_result"
    }
   ],
   "source": [
    "arr3"
   ]
  },
  {
   "cell_type": "code",
   "execution_count": 28,
   "id": "1598562f-fbbf-4281-bd11-35d60bb3df91",
   "metadata": {},
   "outputs": [
    {
     "data": {
      "text/plain": [
       "array([[ 6,  7,  8, 12, 13, 14],\n",
       "       [ 9, 10, 11, 15, 16, 17]])"
      ]
     },
     "execution_count": 28,
     "metadata": {},
     "output_type": "execute_result"
    }
   ],
   "source": [
    "np.hstack((arr2,arr3))"
   ]
  },
  {
   "cell_type": "code",
   "execution_count": 30,
   "id": "b9f6637a-e5fd-4459-a454-9d0c610d7433",
   "metadata": {},
   "outputs": [
    {
     "data": {
      "text/plain": [
       "array([[ 6,  7,  8],\n",
       "       [ 9, 10, 11],\n",
       "       [12, 13, 14],\n",
       "       [15, 16, 17]])"
      ]
     },
     "execution_count": 30,
     "metadata": {},
     "output_type": "execute_result"
    }
   ],
   "source": [
    "np.vstack((arr2,arr3))"
   ]
  },
  {
   "cell_type": "code",
   "execution_count": 48,
   "id": "7f68169f-1a40-4480-848b-17483f900825",
   "metadata": {},
   "outputs": [
    {
     "data": {
      "text/plain": [
       "[array([[12],\n",
       "        [15]]),\n",
       " array([[13],\n",
       "        [16]]),\n",
       " array([[14],\n",
       "        [17]])]"
      ]
     },
     "execution_count": 48,
     "metadata": {},
     "output_type": "execute_result"
    }
   ],
   "source": [
    "np.hsplit(arr3,3)"
   ]
  },
  {
   "cell_type": "code",
   "execution_count": 50,
   "id": "f63f82a9-71c2-4fbb-bdb2-c35dad8f24fe",
   "metadata": {},
   "outputs": [
    {
     "data": {
      "text/plain": [
       "[array([[12, 13, 14]]), array([[15, 16, 17]])]"
      ]
     },
     "execution_count": 50,
     "metadata": {},
     "output_type": "execute_result"
    }
   ],
   "source": [
    "np.vsplit(arr3,2)"
   ]
  },
  {
   "cell_type": "code",
   "execution_count": 54,
   "id": "c2cc9ad7-2b59-46d4-a0fe-7bdcfc6e61c5",
   "metadata": {},
   "outputs": [],
   "source": [
    "arr4 = np.arange(24).reshape(6,4)"
   ]
  },
  {
   "cell_type": "markdown",
   "id": "c87f8710-2902-4ac9-94db-52b1a956fb78",
   "metadata": {},
   "source": [
    "arr4"
   ]
  },
  {
   "cell_type": "markdown",
   "id": "e696eafe-bf0d-49d0-9483-2c605298a76d",
   "metadata": {},
   "source": [
    "Fancy Indexing"
   ]
  },
  {
   "cell_type": "code",
   "execution_count": 59,
   "id": "c83264eb-1bfa-4c86-b1de-5d06a9234587",
   "metadata": {},
   "outputs": [
    {
     "data": {
      "text/plain": [
       "array([[ 0,  1,  2,  3],\n",
       "       [ 8,  9, 10, 11],\n",
       "       [16, 17, 18, 19]])"
      ]
     },
     "execution_count": 59,
     "metadata": {},
     "output_type": "execute_result"
    }
   ],
   "source": [
    "arr4[[0,2,4]]"
   ]
  },
  {
   "cell_type": "markdown",
   "id": "fb1dd978-6ea6-413f-97f2-8c0eee88a11e",
   "metadata": {},
   "source": [
    "Indexing With boolean Arrays"
   ]
  },
  {
   "cell_type": "code",
   "execution_count": 66,
   "id": "ddd046e0-edec-4d17-8185-03832c705e7e",
   "metadata": {},
   "outputs": [],
   "source": [
    "arr5 = np.random.randint(low=1,high=100,size=20).reshape(4,5)"
   ]
  },
  {
   "cell_type": "code",
   "execution_count": 68,
   "id": "28f33307-5641-47b6-bff8-b1079c8bdde7",
   "metadata": {},
   "outputs": [
    {
     "data": {
      "text/plain": [
       "array([[17, 19, 34, 65, 28],\n",
       "       [36, 86, 50, 14, 22],\n",
       "       [36, 41, 60, 66, 33],\n",
       "       [ 5, 45, 97, 13,  5]])"
      ]
     },
     "execution_count": 68,
     "metadata": {},
     "output_type": "execute_result"
    }
   ],
   "source": [
    "arr5"
   ]
  },
  {
   "cell_type": "code",
   "execution_count": 70,
   "id": "15237ad4-13e1-4617-9a27-daac836f98f9",
   "metadata": {},
   "outputs": [
    {
     "data": {
      "text/plain": [
       "array([[False, False, False,  True, False],\n",
       "       [False,  True, False, False, False],\n",
       "       [False, False,  True,  True, False],\n",
       "       [False, False,  True, False, False]])"
      ]
     },
     "execution_count": 70,
     "metadata": {},
     "output_type": "execute_result"
    }
   ],
   "source": [
    "arr5 > 50"
   ]
  },
  {
   "cell_type": "code",
   "execution_count": 80,
   "id": "c225e138-2867-4d76-9ab7-5fd9fdf3cfb4",
   "metadata": {},
   "outputs": [
    {
     "data": {
      "text/plain": [
       "array([65, 86, 60, 66, 97])"
      ]
     },
     "execution_count": 80,
     "metadata": {},
     "output_type": "execute_result"
    }
   ],
   "source": [
    "arr5[arr5 > 50]"
   ]
  },
  {
   "cell_type": "code",
   "execution_count": 82,
   "id": "e529e9c3-cbbd-4c5b-aeb8-935f98ea1f54",
   "metadata": {},
   "outputs": [
    {
     "data": {
      "text/plain": [
       "array([65, 97])"
      ]
     },
     "execution_count": 82,
     "metadata": {},
     "output_type": "execute_result"
    }
   ],
   "source": [
    "arr5[(arr5 > 50) & (arr5 % 2 !=0)]"
   ]
  },
  {
   "cell_type": "code",
   "execution_count": 84,
   "id": "7e677e44-a0d2-46c4-b725-ac756f834ddf",
   "metadata": {},
   "outputs": [],
   "source": [
    "arr5[(arr5 > 50) & (arr5 % 2 !=0)]=0"
   ]
  },
  {
   "cell_type": "code",
   "execution_count": 86,
   "id": "5c6f8522-fcb6-4d5e-8c01-23c8140eb34b",
   "metadata": {},
   "outputs": [
    {
     "data": {
      "text/plain": [
       "array([[17, 19, 34,  0, 28],\n",
       "       [36, 86, 50, 14, 22],\n",
       "       [36, 41, 60, 66, 33],\n",
       "       [ 5, 45,  0, 13,  5]])"
      ]
     },
     "execution_count": 86,
     "metadata": {},
     "output_type": "execute_result"
    }
   ],
   "source": [
    "arr5"
   ]
  },
  {
   "cell_type": "code",
   "execution_count": null,
   "id": "7cb2ea78-2f0c-409e-ae5d-fbdf6a8a2ce1",
   "metadata": {},
   "outputs": [],
   "source": []
  }
 ],
 "metadata": {
  "kernelspec": {
   "display_name": "Python [conda env:base] *",
   "language": "python",
   "name": "conda-base-py"
  },
  "language_info": {
   "codemirror_mode": {
    "name": "ipython",
    "version": 3
   },
   "file_extension": ".py",
   "mimetype": "text/x-python",
   "name": "python",
   "nbconvert_exporter": "python",
   "pygments_lexer": "ipython3",
   "version": "3.12.7"
  }
 },
 "nbformat": 4,
 "nbformat_minor": 5
}
