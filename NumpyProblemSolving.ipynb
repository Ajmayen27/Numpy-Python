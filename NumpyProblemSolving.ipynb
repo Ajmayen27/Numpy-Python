{
 "cells": [
  {
   "cell_type": "markdown",
   "id": "20f3e984-d214-4970-b200-b6b10f85dc7a",
   "metadata": {},
   "source": [
    "Scenario 1: You’re a teacher analyzing exam scores for a class of 10 students. You need to compute statistics and adjust scores based on specific conditions.\n",
    "\n",
    "Tasks:\n",
    "\n",
    "1.Create a NumPy array with 10 student scores (choose your own values between 0 and 100).\n",
    "2.Calculate the average score.\n",
    "3.Find the highest and lowest scores.\n",
    "4.Compute the 75th percentile.\n",
    "5.Identify students who scored above the 75th percentile.\n",
    "6.Add a 5-point bonus to even-indexed students (e.g., students at indices 1, 3, 5, etc., 0-based) with scores above 70."
   ]
  },
  {
   "cell_type": "code",
   "execution_count": 7,
   "id": "505c3bb5-11a3-408a-9385-c77bf679714f",
   "metadata": {},
   "outputs": [],
   "source": [
    "import numpy as np"
   ]
  },
  {
   "cell_type": "code",
   "execution_count": 9,
   "id": "d4349b17-dc21-42ff-b17b-ff5661c9742b",
   "metadata": {},
   "outputs": [],
   "source": [
    "arr = np.random.randint(1,100,10)"
   ]
  },
  {
   "cell_type": "code",
   "execution_count": 11,
   "id": "b6d608f2-5c52-4d3f-8041-8d9afadce95b",
   "metadata": {},
   "outputs": [
    {
     "data": {
      "text/plain": [
       "array([56,  6,  1, 60,  8, 95, 79, 49, 97, 59])"
      ]
     },
     "execution_count": 11,
     "metadata": {},
     "output_type": "execute_result"
    }
   ],
   "source": [
    "#1\n",
    "arr"
   ]
  },
  {
   "cell_type": "code",
   "execution_count": 13,
   "id": "0761aabc-7300-437a-bdb8-1d8bc8a9eeb3",
   "metadata": {},
   "outputs": [
    {
     "data": {
      "text/plain": [
       "51.0"
      ]
     },
     "execution_count": 13,
     "metadata": {},
     "output_type": "execute_result"
    }
   ],
   "source": [
    "#2\n",
    "np.average(arr)"
   ]
  },
  {
   "cell_type": "code",
   "execution_count": 15,
   "id": "bfea7531-184a-4d6d-b5b0-39ca4799402a",
   "metadata": {},
   "outputs": [
    {
     "data": {
      "text/plain": [
       "97"
      ]
     },
     "execution_count": 15,
     "metadata": {},
     "output_type": "execute_result"
    }
   ],
   "source": [
    "#3a\n",
    "arr.max()\n"
   ]
  },
  {
   "cell_type": "code",
   "execution_count": 17,
   "id": "f2284881-449c-41de-9332-a56bf973b0fd",
   "metadata": {},
   "outputs": [
    {
     "data": {
      "text/plain": [
       "1"
      ]
     },
     "execution_count": 17,
     "metadata": {},
     "output_type": "execute_result"
    }
   ],
   "source": [
    "#3b\n",
    "arr.min()"
   ]
  },
  {
   "cell_type": "code",
   "execution_count": 19,
   "id": "3e4145bd-72b6-4b94-a7fe-378a45578746",
   "metadata": {},
   "outputs": [
    {
     "data": {
      "text/plain": [
       "74.25"
      ]
     },
     "execution_count": 19,
     "metadata": {},
     "output_type": "execute_result"
    }
   ],
   "source": [
    "#4\n",
    "np.percentile(arr,75)"
   ]
  },
  {
   "cell_type": "code",
   "execution_count": 21,
   "id": "3d541dea-3829-46fd-b13a-883a7be52e57",
   "metadata": {},
   "outputs": [],
   "source": [
    "#5"
   ]
  },
  {
   "cell_type": "code",
   "execution_count": 147,
   "id": "a2580082-0d34-44a3-bd52-f637f875fcc5",
   "metadata": {},
   "outputs": [
    {
     "data": {
      "text/plain": [
       "array([56,  6,  1, 60,  8, 95, 79, 49, 97, 59])"
      ]
     },
     "execution_count": 147,
     "metadata": {},
     "output_type": "execute_result"
    }
   ],
   "source": [
    "arr "
   ]
  },
  {
   "cell_type": "code",
   "execution_count": 152,
   "id": "704c5053-e3a9-46bd-9177-fcf635057590",
   "metadata": {},
   "outputs": [],
   "source": [
    "arr_index = np.arange(1,len(arr),2)"
   ]
  },
  {
   "cell_type": "raw",
   "id": "8ca4949b-0c0c-49b5-98db-60802ef73a8d",
   "metadata": {},
   "source": [
    "arr[arr_index][arr[arr_index] > 70] += 5\n",
    "print(arr)"
   ]
  },
  {
   "cell_type": "markdown",
   "id": "62368576-aa48-492b-870c-c6c82edc653b",
   "metadata": {},
   "source": [
    "\n",
    "    "
   ]
  },
  {
   "cell_type": "markdown",
   "id": "cf1cb6ae-cb94-40e0-9856-e81a4fb86451",
   "metadata": {},
   "source": [
    "Problem 2: Budget Analysis for Monthly Expenses\n",
    "Scenario: You’re tracking monthly expenses for a year to manage your budget. You want to analyze spending patterns."
   ]
  },
  {
   "cell_type": "code",
   "execution_count": 156,
   "id": "c5d4222d-63d9-4049-9f22-897b9927f53f",
   "metadata": {},
   "outputs": [],
   "source": [
    "#1 Create a NumPy array with 12 months of expenses (choose realistic values in dollars, e.g., 300–1000).\n",
    "\n",
    "totalExpense = np.random.randint(300,1000,12)"
   ]
  },
  {
   "cell_type": "code",
   "execution_count": 158,
   "id": "a6870f24-b86e-4d69-9026-e442a4ad2523",
   "metadata": {},
   "outputs": [
    {
     "data": {
      "text/plain": [
       "array([914, 466, 418, 986, 490, 958, 401, 599, 760, 563, 833, 492])"
      ]
     },
     "execution_count": 158,
     "metadata": {},
     "output_type": "execute_result"
    }
   ],
   "source": [
    "totalExpense"
   ]
  },
  {
   "cell_type": "code",
   "execution_count": 160,
   "id": "963cdec4-d1b6-4198-8ad1-e6bc564480a5",
   "metadata": {},
   "outputs": [
    {
     "data": {
      "text/plain": [
       "7880"
      ]
     },
     "execution_count": 160,
     "metadata": {},
     "output_type": "execute_result"
    }
   ],
   "source": [
    "#2 Calculate the total spending for the year.\n",
    "np.sum(totalExpense)"
   ]
  },
  {
   "cell_type": "code",
   "execution_count": 162,
   "id": "d595b4fa-e646-4d65-9e2f-f7da9c630c61",
   "metadata": {},
   "outputs": [
    {
     "data": {
      "text/plain": [
       "656.6666666666666"
      ]
     },
     "execution_count": 162,
     "metadata": {},
     "output_type": "execute_result"
    }
   ],
   "source": [
    "#3 Compute the average monthly spending.\n",
    "np.average(totalExpense)"
   ]
  },
  {
   "cell_type": "code",
   "execution_count": 164,
   "id": "f6c96824-83e7-472a-a696-e22b8eb45070",
   "metadata": {},
   "outputs": [
    {
     "data": {
      "text/plain": [
       "array([['exceeded'],\n",
       "       ['466'],\n",
       "       ['418'],\n",
       "       ['exceeded'],\n",
       "       ['490'],\n",
       "       ['exceeded'],\n",
       "       ['401'],\n",
       "       ['exceeded'],\n",
       "       ['exceeded'],\n",
       "       ['exceeded'],\n",
       "       ['exceeded'],\n",
       "       ['492']], dtype='<U11')"
      ]
     },
     "execution_count": 164,
     "metadata": {},
     "output_type": "execute_result"
    }
   ],
   "source": [
    "#4 Identify months where spending exceeded $500.\n",
    "np.where(totalExpense > 500,'exceeded',totalExpense).reshape(12,1)"
   ]
  },
  {
   "cell_type": "code",
   "execution_count": 166,
   "id": "143c5c94-066a-41e4-ba0e-7a66ae865e08",
   "metadata": {},
   "outputs": [
    {
     "data": {
      "text/plain": [
       "1"
      ]
     },
     "execution_count": 166,
     "metadata": {},
     "output_type": "execute_result"
    }
   ],
   "source": [
    "#Normalize expenses to a 0–1 scale (i.e., (x - min) / (max - min)).\n",
    "totalExpense.ndim"
   ]
  },
  {
   "cell_type": "code",
   "execution_count": 168,
   "id": "752e1e70-51e2-4aa0-b138-1605a1b9754a",
   "metadata": {},
   "outputs": [],
   "source": [
    "nor = (totalExpense - totalExpense.min()) / (totalExpense.max() - totalExpense.min())"
   ]
  },
  {
   "cell_type": "code",
   "execution_count": 170,
   "id": "7d51d043-e127-4b4b-bf10-e4a41563ddb1",
   "metadata": {},
   "outputs": [
    {
     "data": {
      "text/plain": [
       "array([0.87692308, 0.11111111, 0.02905983, 1.        , 0.15213675,\n",
       "       0.95213675, 0.        , 0.33846154, 0.61367521, 0.27692308,\n",
       "       0.73846154, 0.15555556])"
      ]
     },
     "execution_count": 170,
     "metadata": {},
     "output_type": "execute_result"
    }
   ],
   "source": [
    "nor"
   ]
  },
  {
   "cell_type": "code",
   "execution_count": 172,
   "id": "8a0b2dc7-8e9b-48c2-9001-576b4499c416",
   "metadata": {},
   "outputs": [
    {
     "data": {
      "text/plain": [
       "array([401, 418, 466, 490, 492, 563, 599, 760, 833, 914, 958, 986])"
      ]
     },
     "execution_count": 172,
     "metadata": {},
     "output_type": "execute_result"
    }
   ],
   "source": [
    "#6 Sort months by spending (display indices of months in ascending order of expenses).\n",
    "np.sort(totalExpense)"
   ]
  },
  {
   "cell_type": "markdown",
   "id": "e9891db3-4bb9-467b-8746-9d810d360521",
   "metadata": {},
   "source": [
    "Problem 3: Weather Data Analysis\n",
    "Scenario: You’re analyzing daily temperatures (in Celsius) for a week to understand weather patterns."
   ]
  },
  {
   "cell_type": "code",
   "execution_count": 175,
   "id": "5160adf5-eeee-4a33-9756-1b86dfe12469",
   "metadata": {},
   "outputs": [],
   "source": [
    "#1.Create a NumPy array with 7 daily temperatures (choose values, e.g., 15–30°C).\n",
    "\n",
    "temp = np.random.randint(15,30,7)"
   ]
  },
  {
   "cell_type": "code",
   "execution_count": 177,
   "id": "ea71f251-4de9-4d26-8d5b-3d6275b10e07",
   "metadata": {},
   "outputs": [
    {
     "data": {
      "text/plain": [
       "array([19, 18, 19, 18, 22, 19, 16])"
      ]
     },
     "execution_count": 177,
     "metadata": {},
     "output_type": "execute_result"
    }
   ],
   "source": [
    "temp"
   ]
  },
  {
   "cell_type": "code",
   "execution_count": 179,
   "id": "e96acb71-d164-4f89-87a0-3cbb6b40e0ae",
   "metadata": {},
   "outputs": [
    {
     "data": {
      "text/plain": [
       "18.714285714285715"
      ]
     },
     "execution_count": 179,
     "metadata": {},
     "output_type": "execute_result"
    }
   ],
   "source": [
    "#2.Calculate the average temperature for the week.\n",
    "np.average(temp)\n",
    "\n"
   ]
  },
  {
   "cell_type": "code",
   "execution_count": 181,
   "id": "92e1424a-2643-40b2-862d-5bf7cd4e204a",
   "metadata": {},
   "outputs": [
    {
     "data": {
      "text/plain": [
       "22"
      ]
     },
     "execution_count": 181,
     "metadata": {},
     "output_type": "execute_result"
    }
   ],
   "source": [
    "#3.Find the day(s) with the highest temperature.\n",
    "\n",
    "temp.max()"
   ]
  },
  {
   "cell_type": "code",
   "execution_count": 183,
   "id": "6b1c44e8-aa88-4867-affe-25012ba273c4",
   "metadata": {},
   "outputs": [],
   "source": [
    "#4. Compute the standard deviation of temperatures.\n",
    "\n",
    "std_dev = np.std(temp,ddof=1)"
   ]
  },
  {
   "cell_type": "code",
   "execution_count": 185,
   "id": "8cee85ee-a568-460b-a84d-b2cc79e418cf",
   "metadata": {},
   "outputs": [
    {
     "data": {
      "text/plain": [
       "1.7994708216848745"
      ]
     },
     "execution_count": 185,
     "metadata": {},
     "output_type": "execute_result"
    }
   ],
   "source": [
    "std_dev"
   ]
  },
  {
   "cell_type": "code",
   "execution_count": 187,
   "id": "4aaf71dc-db26-4de2-b7b7-a07e4b6a3005",
   "metadata": {},
   "outputs": [
    {
     "data": {
      "text/plain": [
       "array([19, 18, 19, 18, 22, 19, 16])"
      ]
     },
     "execution_count": 187,
     "metadata": {},
     "output_type": "execute_result"
    }
   ],
   "source": [
    "#5. Replace temperatures below 20°C with 20°C (to simulate a minimum threshold).\n",
    "temp"
   ]
  },
  {
   "cell_type": "code",
   "execution_count": 189,
   "id": "e113a4ef-cd0b-4e31-be4a-864856a6d196",
   "metadata": {},
   "outputs": [],
   "source": [
    "temp[temp < 20] = 20\n"
   ]
  },
  {
   "cell_type": "code",
   "execution_count": 191,
   "id": "2da6916a-32b1-44e7-8de3-060d98f5754b",
   "metadata": {},
   "outputs": [
    {
     "data": {
      "text/plain": [
       "array([20, 20, 20, 20, 22, 20, 20])"
      ]
     },
     "execution_count": 191,
     "metadata": {},
     "output_type": "execute_result"
    }
   ],
   "source": [
    "temp"
   ]
  },
  {
   "cell_type": "code",
   "execution_count": 193,
   "id": "a8944b8a-24a5-4145-b9bc-365d78d57559",
   "metadata": {},
   "outputs": [],
   "source": [
    "#6 Create a new array with temperatures converted to Fahrenheit (°F = °C * 9/5 + 32).\n",
    "\n",
    "new_temp = (temp*9/5)+32"
   ]
  },
  {
   "cell_type": "code",
   "execution_count": 195,
   "id": "5615e063-77a2-48f4-b81f-e00d4e5f88bf",
   "metadata": {},
   "outputs": [
    {
     "data": {
      "text/plain": [
       "array([68. , 68. , 68. , 68. , 71.6, 68. , 68. ])"
      ]
     },
     "execution_count": 195,
     "metadata": {},
     "output_type": "execute_result"
    }
   ],
   "source": [
    "new_temp"
   ]
  },
  {
   "cell_type": "code",
   "execution_count": 225,
   "id": "34002188-f896-4f84-a8ee-ba1f33582538",
   "metadata": {},
   "outputs": [
    {
     "data": {
      "text/plain": [
       "array([56,  6,  1, 60,  8, 95, 79, 49, 97, 59])"
      ]
     },
     "execution_count": 225,
     "metadata": {},
     "output_type": "execute_result"
    }
   ],
   "source": [
    "arr"
   ]
  },
  {
   "cell_type": "code",
   "execution_count": 227,
   "id": "969f012a-6c6c-445a-b566-7695e9e2067b",
   "metadata": {},
   "outputs": [],
   "source": [
    "arr_index = np.arange(2,len(arr),2)"
   ]
  },
  {
   "cell_type": "code",
   "execution_count": 229,
   "id": "23370cdb-550d-4ea2-a09d-a2c85db5ec83",
   "metadata": {},
   "outputs": [
    {
     "data": {
      "text/plain": [
       "array([2, 4, 6, 8])"
      ]
     },
     "execution_count": 229,
     "metadata": {},
     "output_type": "execute_result"
    }
   ],
   "source": [
    "arr_index"
   ]
  },
  {
   "cell_type": "code",
   "execution_count": 244,
   "id": "cada96ab-4c6d-46db-9fa3-687aa274fe8f",
   "metadata": {},
   "outputs": [
    {
     "name": "stdout",
     "output_type": "stream",
     "text": [
      "Adjusted Scores: [56  6  1 60  8 95 79 49 97 59]\n"
     ]
    }
   ],
   "source": [
    "arr[arr_index][arr[arr_index] > 70] += 5\n",
    "print(\"Adjusted Scores:\", arr)\n"
   ]
  },
  {
   "cell_type": "code",
   "execution_count": 238,
   "id": "68f8681e-41d3-41a4-90d5-9501bcd8c3a0",
   "metadata": {},
   "outputs": [
    {
     "data": {
      "text/plain": [
       "array([56,  6,  1, 60,  8, 95, 79, 49, 97, 59])"
      ]
     },
     "execution_count": 238,
     "metadata": {},
     "output_type": "execute_result"
    }
   ],
   "source": [
    "arr"
   ]
  },
  {
   "cell_type": "code",
   "execution_count": null,
   "id": "a6262278-3e3a-4d3b-8d23-0ac88f1b67cc",
   "metadata": {},
   "outputs": [],
   "source": []
  }
 ],
 "metadata": {
  "kernelspec": {
   "display_name": "Python [conda env:base] *",
   "language": "python",
   "name": "conda-base-py"
  },
  "language_info": {
   "codemirror_mode": {
    "name": "ipython",
    "version": 3
   },
   "file_extension": ".py",
   "mimetype": "text/x-python",
   "name": "python",
   "nbconvert_exporter": "python",
   "pygments_lexer": "ipython3",
   "version": "3.12.7"
  }
 },
 "nbformat": 4,
 "nbformat_minor": 5
}
