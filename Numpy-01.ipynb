{
 "cells": [
  {
   "cell_type": "code",
   "execution_count": 2,
   "id": "20f557aa-35c2-40ae-8049-7e1aff8614ec",
   "metadata": {},
   "outputs": [],
   "source": [
    "import numpy as np"
   ]
  },
  {
   "cell_type": "code",
   "execution_count": 4,
   "id": "e26fe933-4605-4d25-ac42-a6f0bf431493",
   "metadata": {},
   "outputs": [],
   "source": [
    "arr1 = np.array([1,2,3,4])"
   ]
  },
  {
   "cell_type": "code",
   "execution_count": 6,
   "id": "1e7cae71-bc62-4436-baa2-9e512d8e071d",
   "metadata": {},
   "outputs": [
    {
     "data": {
      "text/plain": [
       "array([1, 2, 3, 4])"
      ]
     },
     "execution_count": 6,
     "metadata": {},
     "output_type": "execute_result"
    }
   ],
   "source": [
    "arr1"
   ]
  },
  {
   "cell_type": "code",
   "execution_count": 8,
   "id": "5760d05c-fe39-4b87-97f0-a20022fef6f2",
   "metadata": {},
   "outputs": [
    {
     "data": {
      "text/plain": [
       "numpy.ndarray"
      ]
     },
     "execution_count": 8,
     "metadata": {},
     "output_type": "execute_result"
    }
   ],
   "source": [
    "type(arr1)"
   ]
  },
  {
   "cell_type": "code",
   "execution_count": 10,
   "id": "d6e691a8-884b-41f1-a59a-04892d975c6c",
   "metadata": {},
   "outputs": [],
   "source": [
    "arr2 = np.array([[2,4,6,8],[1,3,5,7]])"
   ]
  },
  {
   "cell_type": "code",
   "execution_count": 12,
   "id": "930d2dd9-d189-47f5-87cc-a147e9adcac5",
   "metadata": {},
   "outputs": [
    {
     "data": {
      "text/plain": [
       "array([[2, 4, 6, 8],\n",
       "       [1, 3, 5, 7]])"
      ]
     },
     "execution_count": 12,
     "metadata": {},
     "output_type": "execute_result"
    }
   ],
   "source": [
    "arr2"
   ]
  },
  {
   "cell_type": "code",
   "execution_count": 14,
   "id": "a54a744b-f360-456d-aae4-7989160999b9",
   "metadata": {},
   "outputs": [
    {
     "data": {
      "text/plain": [
       "numpy.ndarray"
      ]
     },
     "execution_count": 14,
     "metadata": {},
     "output_type": "execute_result"
    }
   ],
   "source": [
    "type(arr2)"
   ]
  },
  {
   "cell_type": "code",
   "execution_count": 16,
   "id": "22755186-3f1c-4209-a06a-41fea2344b46",
   "metadata": {},
   "outputs": [],
   "source": [
    "arr3 = np.zeros((2,3))"
   ]
  },
  {
   "cell_type": "code",
   "execution_count": 18,
   "id": "690d5bfa-fb87-4060-bc35-786337468c9d",
   "metadata": {},
   "outputs": [
    {
     "data": {
      "text/plain": [
       "array([[0., 0., 0.],\n",
       "       [0., 0., 0.]])"
      ]
     },
     "execution_count": 18,
     "metadata": {},
     "output_type": "execute_result"
    }
   ],
   "source": [
    "arr3"
   ]
  },
  {
   "cell_type": "code",
   "execution_count": 20,
   "id": "183f2c46-ac79-422b-8a5c-861973d04f74",
   "metadata": {},
   "outputs": [],
   "source": [
    "arr4 = np.ones((2,3))"
   ]
  },
  {
   "cell_type": "code",
   "execution_count": 22,
   "id": "95a2e244-85b6-4ae2-8577-b6716558c0be",
   "metadata": {},
   "outputs": [
    {
     "data": {
      "text/plain": [
       "array([[1., 1., 1.],\n",
       "       [1., 1., 1.]])"
      ]
     },
     "execution_count": 22,
     "metadata": {},
     "output_type": "execute_result"
    }
   ],
   "source": [
    "arr4"
   ]
  },
  {
   "cell_type": "code",
   "execution_count": 24,
   "id": "27852086-4ad4-4e68-893b-4aa48b620a54",
   "metadata": {},
   "outputs": [],
   "source": [
    "arr5 = np.identity(5)"
   ]
  },
  {
   "cell_type": "code",
   "execution_count": 26,
   "id": "6b23eab8-7659-41b9-95d9-53056821030c",
   "metadata": {},
   "outputs": [
    {
     "data": {
      "text/plain": [
       "array([[1., 0., 0., 0., 0.],\n",
       "       [0., 1., 0., 0., 0.],\n",
       "       [0., 0., 1., 0., 0.],\n",
       "       [0., 0., 0., 1., 0.],\n",
       "       [0., 0., 0., 0., 1.]])"
      ]
     },
     "execution_count": 26,
     "metadata": {},
     "output_type": "execute_result"
    }
   ],
   "source": [
    "arr5"
   ]
  },
  {
   "cell_type": "code",
   "execution_count": 30,
   "id": "56cd9569-4e03-41a9-8785-03eb5f95c2cd",
   "metadata": {},
   "outputs": [],
   "source": [
    "arr6 = np.arange(10)"
   ]
  },
  {
   "cell_type": "code",
   "execution_count": 32,
   "id": "4c894bf0-19a8-4964-bd66-2286c75e9e5e",
   "metadata": {},
   "outputs": [
    {
     "data": {
      "text/plain": [
       "array([0, 1, 2, 3, 4, 5, 6, 7, 8, 9])"
      ]
     },
     "execution_count": 32,
     "metadata": {},
     "output_type": "execute_result"
    }
   ],
   "source": [
    "arr6"
   ]
  },
  {
   "cell_type": "code",
   "execution_count": 34,
   "id": "d1541ccf-c647-490b-aec0-ead0742f8125",
   "metadata": {},
   "outputs": [],
   "source": [
    "arr6 = np.arange(5,25,2)"
   ]
  },
  {
   "cell_type": "code",
   "execution_count": 36,
   "id": "2194dd85-5c9e-4fc8-9681-09536acf8d86",
   "metadata": {},
   "outputs": [
    {
     "data": {
      "text/plain": [
       "array([ 5,  7,  9, 11, 13, 15, 17, 19, 21, 23])"
      ]
     },
     "execution_count": 36,
     "metadata": {},
     "output_type": "execute_result"
    }
   ],
   "source": [
    "arr6"
   ]
  },
  {
   "cell_type": "code",
   "execution_count": 38,
   "id": "97e1b920-6af2-49ff-91c6-1728ed50ebf2",
   "metadata": {},
   "outputs": [],
   "source": [
    "arr7 = np.linspace(5,15,5)"
   ]
  },
  {
   "cell_type": "code",
   "execution_count": 40,
   "id": "90470dae-57f7-443a-bf35-6ffe1feaca56",
   "metadata": {},
   "outputs": [
    {
     "data": {
      "text/plain": [
       "array([ 5. ,  7.5, 10. , 12.5, 15. ])"
      ]
     },
     "execution_count": 40,
     "metadata": {},
     "output_type": "execute_result"
    }
   ],
   "source": [
    "arr7"
   ]
  },
  {
   "cell_type": "code",
   "execution_count": 42,
   "id": "aab5623c-d210-4f81-9da9-505989124096",
   "metadata": {},
   "outputs": [],
   "source": [
    "arr7 = np.linspace(10,20,10)"
   ]
  },
  {
   "cell_type": "code",
   "execution_count": 44,
   "id": "af7268c5-7d54-4404-9c69-c169aff5f4e1",
   "metadata": {},
   "outputs": [
    {
     "data": {
      "text/plain": [
       "array([10.        , 11.11111111, 12.22222222, 13.33333333, 14.44444444,\n",
       "       15.55555556, 16.66666667, 17.77777778, 18.88888889, 20.        ])"
      ]
     },
     "execution_count": 44,
     "metadata": {},
     "output_type": "execute_result"
    }
   ],
   "source": [
    "arr7"
   ]
  },
  {
   "cell_type": "code",
   "execution_count": 46,
   "id": "2e5f5312-5b05-4abd-9c8c-79a035df368c",
   "metadata": {},
   "outputs": [],
   "source": [
    "arr7 = np.linspace(5,10,10)"
   ]
  },
  {
   "cell_type": "code",
   "execution_count": 48,
   "id": "62491412-4161-49cd-8876-f8db1cea6f87",
   "metadata": {},
   "outputs": [
    {
     "data": {
      "text/plain": [
       "array([ 5.        ,  5.55555556,  6.11111111,  6.66666667,  7.22222222,\n",
       "        7.77777778,  8.33333333,  8.88888889,  9.44444444, 10.        ])"
      ]
     },
     "execution_count": 48,
     "metadata": {},
     "output_type": "execute_result"
    }
   ],
   "source": [
    "arr7"
   ]
  },
  {
   "cell_type": "code",
   "execution_count": 50,
   "id": "d4ab64f0-bfe8-4baf-b0d0-564befec0d2d",
   "metadata": {},
   "outputs": [],
   "source": [
    "arr8 = arr7.copy()"
   ]
  },
  {
   "cell_type": "code",
   "execution_count": 52,
   "id": "bd9f6c28-9a15-49be-baeb-74d8fd8c14a3",
   "metadata": {},
   "outputs": [
    {
     "data": {
      "text/plain": [
       "array([ 5.        ,  5.55555556,  6.11111111,  6.66666667,  7.22222222,\n",
       "        7.77777778,  8.33333333,  8.88888889,  9.44444444, 10.        ])"
      ]
     },
     "execution_count": 52,
     "metadata": {},
     "output_type": "execute_result"
    }
   ],
   "source": [
    "arr8"
   ]
  },
  {
   "cell_type": "code",
   "execution_count": 54,
   "id": "ee50b9da-807e-49e8-aaa5-435f03fb8488",
   "metadata": {},
   "outputs": [
    {
     "data": {
      "text/plain": [
       "array([1, 2, 3, 4])"
      ]
     },
     "execution_count": 54,
     "metadata": {},
     "output_type": "execute_result"
    }
   ],
   "source": [
    "arr1"
   ]
  },
  {
   "cell_type": "code",
   "execution_count": 56,
   "id": "1c63d7b8-c75f-4f5e-a496-9d6e3afbb8f9",
   "metadata": {},
   "outputs": [
    {
     "data": {
      "text/plain": [
       "(4,)"
      ]
     },
     "execution_count": 56,
     "metadata": {},
     "output_type": "execute_result"
    }
   ],
   "source": [
    "arr1.shape"
   ]
  },
  {
   "cell_type": "code",
   "execution_count": 58,
   "id": "12a80292-ffbd-4d96-89c0-e4e01df310e3",
   "metadata": {},
   "outputs": [
    {
     "data": {
      "text/plain": [
       "array([[2, 4, 6, 8],\n",
       "       [1, 3, 5, 7]])"
      ]
     },
     "execution_count": 58,
     "metadata": {},
     "output_type": "execute_result"
    }
   ],
   "source": [
    "arr2"
   ]
  },
  {
   "cell_type": "code",
   "execution_count": 60,
   "id": "51cafd07-f97d-48ba-acb6-7417fa3bb66f",
   "metadata": {},
   "outputs": [
    {
     "data": {
      "text/plain": [
       "(2, 4)"
      ]
     },
     "execution_count": 60,
     "metadata": {},
     "output_type": "execute_result"
    }
   ],
   "source": [
    "arr2.shape"
   ]
  },
  {
   "cell_type": "code",
   "execution_count": 64,
   "id": "5618a80d-e93f-4b28-b7a1-0cf8d210623d",
   "metadata": {},
   "outputs": [],
   "source": [
    "arr9 = np.array([[[1,2],[2,3],[7,8]]])"
   ]
  },
  {
   "cell_type": "code",
   "execution_count": 66,
   "id": "95dbbbc1-c613-4ff3-981c-2827d1253b31",
   "metadata": {},
   "outputs": [
    {
     "data": {
      "text/plain": [
       "array([[[1, 2],\n",
       "        [2, 3],\n",
       "        [7, 8]]])"
      ]
     },
     "execution_count": 66,
     "metadata": {},
     "output_type": "execute_result"
    }
   ],
   "source": [
    "arr9"
   ]
  },
  {
   "cell_type": "code",
   "execution_count": 68,
   "id": "3041dd50-29ee-41c4-9b7f-d2c8eb30f43e",
   "metadata": {},
   "outputs": [
    {
     "data": {
      "text/plain": [
       "(1, 3, 2)"
      ]
     },
     "execution_count": 68,
     "metadata": {},
     "output_type": "execute_result"
    }
   ],
   "source": [
    "arr9.shape"
   ]
  },
  {
   "cell_type": "code",
   "execution_count": 70,
   "id": "6ce2e47c-5488-450e-9779-bb1419108e87",
   "metadata": {},
   "outputs": [
    {
     "data": {
      "text/plain": [
       "3"
      ]
     },
     "execution_count": 70,
     "metadata": {},
     "output_type": "execute_result"
    }
   ],
   "source": [
    "arr9.ndim"
   ]
  },
  {
   "cell_type": "code",
   "execution_count": 72,
   "id": "44fbb1fd-894f-447b-b133-2dc136ea671a",
   "metadata": {},
   "outputs": [
    {
     "data": {
      "text/plain": [
       "2"
      ]
     },
     "execution_count": 72,
     "metadata": {},
     "output_type": "execute_result"
    }
   ],
   "source": [
    "arr2.ndim"
   ]
  },
  {
   "cell_type": "code",
   "execution_count": 74,
   "id": "6bc78e58-d27a-44f5-8624-56fa676d8925",
   "metadata": {},
   "outputs": [
    {
     "data": {
      "text/plain": [
       "array([1, 2, 3, 4])"
      ]
     },
     "execution_count": 74,
     "metadata": {},
     "output_type": "execute_result"
    }
   ],
   "source": [
    "arr1"
   ]
  },
  {
   "cell_type": "code",
   "execution_count": 76,
   "id": "dbe3ee22-7bff-4e7c-8ee0-ad27e4769bd2",
   "metadata": {},
   "outputs": [
    {
     "data": {
      "text/plain": [
       "4"
      ]
     },
     "execution_count": 76,
     "metadata": {},
     "output_type": "execute_result"
    }
   ],
   "source": [
    "arr1.size"
   ]
  },
  {
   "cell_type": "code",
   "execution_count": 78,
   "id": "cceb6462-3ef6-4ecc-8e45-bc94a426e468",
   "metadata": {},
   "outputs": [
    {
     "data": {
      "text/plain": [
       "array([[2, 4, 6, 8],\n",
       "       [1, 3, 5, 7]])"
      ]
     },
     "execution_count": 78,
     "metadata": {},
     "output_type": "execute_result"
    }
   ],
   "source": [
    "arr2"
   ]
  },
  {
   "cell_type": "code",
   "execution_count": 89,
   "id": "4585de84-428e-4a49-b270-4b4d12976a44",
   "metadata": {},
   "outputs": [
    {
     "data": {
      "text/plain": [
       "8"
      ]
     },
     "execution_count": 89,
     "metadata": {},
     "output_type": "execute_result"
    }
   ],
   "source": [
    "arr2.size"
   ]
  },
  {
   "cell_type": "code",
   "execution_count": 91,
   "id": "6ce1b46e-5fe0-4615-9e0a-fcf27b8a5e3e",
   "metadata": {},
   "outputs": [
    {
     "data": {
      "text/plain": [
       "6"
      ]
     },
     "execution_count": 91,
     "metadata": {},
     "output_type": "execute_result"
    }
   ],
   "source": [
    "arr9.size"
   ]
  },
  {
   "cell_type": "code",
   "execution_count": 93,
   "id": "15737c0d-fff1-4f34-aaf7-4c92b425d88c",
   "metadata": {},
   "outputs": [
    {
     "data": {
      "text/plain": [
       "4"
      ]
     },
     "execution_count": 93,
     "metadata": {},
     "output_type": "execute_result"
    }
   ],
   "source": [
    "arr9.itemsize"
   ]
  },
  {
   "cell_type": "code",
   "execution_count": 97,
   "id": "16b8555b-f98d-4361-b43e-daeda8acfb65",
   "metadata": {},
   "outputs": [
    {
     "data": {
      "text/plain": [
       "dtype('int32')"
      ]
     },
     "execution_count": 97,
     "metadata": {},
     "output_type": "execute_result"
    }
   ],
   "source": [
    "arr9.dtype"
   ]
  },
  {
   "cell_type": "code",
   "execution_count": 99,
   "id": "d4930b0e-1dca-4425-bfae-219a0552e253",
   "metadata": {},
   "outputs": [
    {
     "data": {
      "text/plain": [
       "dtype('float64')"
      ]
     },
     "execution_count": 99,
     "metadata": {},
     "output_type": "execute_result"
    }
   ],
   "source": [
    "arr8.dtype"
   ]
  },
  {
   "cell_type": "code",
   "execution_count": 101,
   "id": "99820a5f-32fc-4704-87b8-583cb23c5a8d",
   "metadata": {},
   "outputs": [
    {
     "data": {
      "text/plain": [
       "array([[[1., 2.],\n",
       "        [2., 3.],\n",
       "        [7., 8.]]])"
      ]
     },
     "execution_count": 101,
     "metadata": {},
     "output_type": "execute_result"
    }
   ],
   "source": [
    "arr9.astype('float')"
   ]
  },
  {
   "cell_type": "code",
   "execution_count": 103,
   "id": "3449360f-c8aa-4455-82de-5e15241e3577",
   "metadata": {},
   "outputs": [],
   "source": [
    "lista = range(100)"
   ]
  },
  {
   "cell_type": "code",
   "execution_count": 105,
   "id": "80718bd4-210e-4e23-9aa1-3ecd5a0e1b65",
   "metadata": {},
   "outputs": [],
   "source": [
    "Array10 = np.arange(100)"
   ]
  },
  {
   "cell_type": "code",
   "execution_count": 107,
   "id": "9edae58f-aebb-4173-bfcd-8855cbd18c2f",
   "metadata": {},
   "outputs": [],
   "source": [
    "import sys"
   ]
  },
  {
   "cell_type": "code",
   "execution_count": 109,
   "id": "7bae5fb0-ba5f-4a23-acb0-dcb856379aac",
   "metadata": {},
   "outputs": [
    {
     "name": "stdout",
     "output_type": "stream",
     "text": [
      "2800\n"
     ]
    }
   ],
   "source": [
    "print(sys.getsizeof(55)*len(lista))"
   ]
  },
  {
   "cell_type": "code",
   "execution_count": 111,
   "id": "6fafdf1d-f66f-48cf-ad28-1ee4700c3576",
   "metadata": {},
   "outputs": [
    {
     "name": "stdout",
     "output_type": "stream",
     "text": [
      "400\n"
     ]
    }
   ],
   "source": [
    "print(Array10.itemsize*Array10.size)"
   ]
  },
  {
   "cell_type": "code",
   "execution_count": 113,
   "id": "e2977845-8333-4add-a612-f0a3ac81f460",
   "metadata": {},
   "outputs": [
    {
     "data": {
      "text/plain": [
       "100"
      ]
     },
     "execution_count": 113,
     "metadata": {},
     "output_type": "execute_result"
    }
   ],
   "source": [
    "Array10.size"
   ]
  },
  {
   "cell_type": "code",
   "execution_count": 117,
   "id": "747cf6be-dd88-45ee-8edd-0697e811cae8",
   "metadata": {},
   "outputs": [
    {
     "data": {
      "text/plain": [
       "4"
      ]
     },
     "execution_count": 117,
     "metadata": {},
     "output_type": "execute_result"
    }
   ],
   "source": [
    "Array10.itemsize"
   ]
  },
  {
   "cell_type": "markdown",
   "id": "9168c6e6-6c7d-4c85-aa7b-1d07c5c358f0",
   "metadata": {},
   "source": [
    "Numpy Arrays are faster in comparision to list"
   ]
  },
  {
   "cell_type": "code",
   "execution_count": 132,
   "id": "af64fe42-1508-4d9a-add9-5e799dd764f3",
   "metadata": {},
   "outputs": [],
   "source": [
    "import time"
   ]
  },
  {
   "cell_type": "code",
   "execution_count": 144,
   "id": "b07bee7e-cd4f-4328-ba6a-99d78f583119",
   "metadata": {},
   "outputs": [
    {
     "name": "stdout",
     "output_type": "stream",
     "text": [
      "3.412799119949341\n"
     ]
    }
   ],
   "source": [
    "list1 = range(10000000)\n",
    "list2 = range(10000000,20000000)\n",
    "\n",
    "start_time = time.time()\n",
    "\n",
    "c = [(list1,list2)for list1,list2 in zip(list1,list2)]\n",
    "print(time.time() - start_time)\n",
    "\n"
   ]
  },
  {
   "cell_type": "code",
   "execution_count": 142,
   "id": "090240cb-b28d-4a1e-8df6-079d9ce68f8b",
   "metadata": {},
   "outputs": [
    {
     "name": "stdout",
     "output_type": "stream",
     "text": [
      "0.005037069320678711\n"
     ]
    }
   ],
   "source": [
    "arr1 = np.arange(100000)\n",
    "arr2 = np.arange(100000,200000)\n",
    "start_time = time.time()\n",
    "c = arr1 + arr2\n",
    "print(time.time() - start_time)"
   ]
  },
  {
   "cell_type": "code",
   "execution_count": null,
   "id": "334acf72-eff9-4c6d-bf00-643cbf41f21b",
   "metadata": {},
   "outputs": [],
   "source": []
  }
 ],
 "metadata": {
  "kernelspec": {
   "display_name": "Python [conda env:base] *",
   "language": "python",
   "name": "conda-base-py"
  },
  "language_info": {
   "codemirror_mode": {
    "name": "ipython",
    "version": 3
   },
   "file_extension": ".py",
   "mimetype": "text/x-python",
   "name": "python",
   "nbconvert_exporter": "python",
   "pygments_lexer": "ipython3",
   "version": "3.12.7"
  }
 },
 "nbformat": 4,
 "nbformat_minor": 5
}
